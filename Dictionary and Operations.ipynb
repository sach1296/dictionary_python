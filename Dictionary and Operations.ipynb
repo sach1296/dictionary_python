{
 "cells": [
  {
   "cell_type": "code",
   "execution_count": 1,
   "metadata": {},
   "outputs": [
    {
     "data": {
      "text/plain": [
       "['__class__',\n",
       " '__contains__',\n",
       " '__delattr__',\n",
       " '__delitem__',\n",
       " '__dir__',\n",
       " '__doc__',\n",
       " '__eq__',\n",
       " '__format__',\n",
       " '__ge__',\n",
       " '__getattribute__',\n",
       " '__getitem__',\n",
       " '__gt__',\n",
       " '__hash__',\n",
       " '__init__',\n",
       " '__init_subclass__',\n",
       " '__iter__',\n",
       " '__le__',\n",
       " '__len__',\n",
       " '__lt__',\n",
       " '__ne__',\n",
       " '__new__',\n",
       " '__reduce__',\n",
       " '__reduce_ex__',\n",
       " '__repr__',\n",
       " '__reversed__',\n",
       " '__setattr__',\n",
       " '__setitem__',\n",
       " '__sizeof__',\n",
       " '__str__',\n",
       " '__subclasshook__',\n",
       " 'clear',\n",
       " 'copy',\n",
       " 'fromkeys',\n",
       " 'get',\n",
       " 'items',\n",
       " 'keys',\n",
       " 'pop',\n",
       " 'popitem',\n",
       " 'setdefault',\n",
       " 'update',\n",
       " 'values']"
      ]
     },
     "execution_count": 1,
     "metadata": {},
     "output_type": "execute_result"
    }
   ],
   "source": [
    "dir({})"
   ]
  },
  {
   "cell_type": "markdown",
   "metadata": {},
   "source": [
    "# Iterating Dictionary using for loop"
   ]
  },
  {
   "cell_type": "code",
   "execution_count": 25,
   "metadata": {},
   "outputs": [
    {
     "name": "stdout",
     "output_type": "stream",
     "text": [
      "1 -> sachin\n",
      "2 -> Ravi\n",
      "3 -> Deepak\n"
     ]
    }
   ],
   "source": [
    "dict1={1:'sachin',2:'Ravi',3:'Deepak'}\n",
    "for item in dict1:\n",
    "    print(item,'->',dict1[item])"
   ]
  },
  {
   "cell_type": "markdown",
   "metadata": {},
   "source": [
    "# Dictionary views()"
   ]
  },
  {
   "cell_type": "code",
   "execution_count": 26,
   "metadata": {},
   "outputs": [
    {
     "name": "stdout",
     "output_type": "stream",
     "text": [
      "dict_items([(1, 'sachin'), (2, 'Ravi'), (3, 'Deepak')])\n",
      "<class 'dict_items'>\n",
      "dict_values(['sachin', 'Ravi', 'Deepak'])\n",
      "<class 'dict_values'>\n",
      "dict_keys([1, 2, 3])\n",
      "<class 'dict_keys'>\n"
     ]
    }
   ],
   "source": [
    "dict1={1:'sachin',2:'Ravi',3:'Deepak'}\n",
    "items=dict1.items()\n",
    "keys=dict1.keys()\n",
    "value=dict1.values()\n",
    "print(items)\n",
    "print(type(items))\n",
    "print(value)\n",
    "print(type(value))\n",
    "print(keys)\n",
    "print(type(keys))\n"
   ]
  },
  {
   "cell_type": "markdown",
   "metadata": {},
   "source": [
    "# Iterateing dictionary views"
   ]
  },
  {
   "cell_type": "code",
   "execution_count": 28,
   "metadata": {},
   "outputs": [
    {
     "name": "stdout",
     "output_type": "stream",
     "text": [
      "(1, 'sachin')(2, 'Ravi')(3, 'Deepak')\n",
      "\n",
      "sachin  Ravi  Deepak  \n",
      "\n",
      "1  2  3  "
     ]
    }
   ],
   "source": [
    "dict1={1:'sachin',2:'Ravi',3:'Deepak'}\n",
    "#--iterate dict1ionary using.items()---------\n",
    "for item in dict1.items():\n",
    "    print(item,end=\"\")\n",
    "print('\\n')\n",
    "#---iterate dict1ionary using.values()---------\n",
    "for item_1 in dict1.values():\n",
    "    print(item_1,\" \",end=\"\")\n",
    "print('\\n')\n",
    "#---iterate dict1ionary using.keys()-----------\n",
    "for item_2 in dict1.keys():\n",
    "    print(item_2,\" \",end=\"\")\n",
    "    \n"
   ]
  },
  {
   "cell_type": "markdown",
   "metadata": {},
   "source": [
    "# Tuple Unpacking"
   ]
  },
  {
   "cell_type": "code",
   "execution_count": 29,
   "metadata": {},
   "outputs": [
    {
     "name": "stdout",
     "output_type": "stream",
     "text": [
      "sachin Shah\n",
      "<class 'str'>\n",
      "not placed\n"
     ]
    }
   ],
   "source": [
    "#assigning values in the right to the values in the left\n",
    "#tuple packing\n",
    "a=('sachin Shah',24,'UG','not placed')\n",
    "#assigning values in the right to left\n",
    "#tuple unpacking\n",
    "(name,age,degree,condo)=a\n",
    "\n",
    "print(name)\n",
    "print(type(name))\n",
    "print(condo)"
   ]
  },
  {
   "cell_type": "markdown",
   "metadata": {},
   "source": [
    "# unpacking using * operator"
   ]
  },
  {
   "cell_type": "code",
   "execution_count": 24,
   "metadata": {},
   "outputs": [
    {
     "name": "stdout",
     "output_type": "stream",
     "text": [
      "10\n",
      "['sachin', 'shah', 'is', 'a', 'good', 'boy']\n",
      "50\n"
     ]
    }
   ],
   "source": [
    "#tuple unpacking with unequal number of variables and tuple elements  \n",
    "x,*y,z=('10','sachin','shah','is','a','good','boy','50')\n",
    "print(x)\n",
    "print(y)\n",
    "print(z)\n",
    "\n"
   ]
  },
  {
   "cell_type": "markdown",
   "metadata": {},
   "source": [
    "# Iterating dictionary using tuple unpacking and .items()"
   ]
  },
  {
   "cell_type": "code",
   "execution_count": 30,
   "metadata": {},
   "outputs": [
    {
     "name": "stdout",
     "output_type": "stream",
     "text": [
      "1 -> sachin  2 -> Ravi  3 -> Deepak  4 -> Shubham  "
     ]
    }
   ],
   "source": [
    "dict1={1:'sachin',2:'Ravi',3:'Deepak',4:'Shubham'}\n",
    "for key,value in dict1.items():\n",
    "    print(key,'->',value,\" \",end=\"\")\n",
    "\n"
   ]
  },
  {
   "cell_type": "markdown",
   "metadata": {},
   "source": [
    "# Directly modifying a known value in a Dictionary"
   ]
  },
  {
   "cell_type": "code",
   "execution_count": 15,
   "metadata": {},
   "outputs": [
    {
     "name": "stdout",
     "output_type": "stream",
     "text": [
      "{'color': 'blue', 'fruit': 'mango', 'pet': 'cat'}\n"
     ]
    }
   ],
   "source": [
    "fvrt_1={'color':'blue','fruit':'mango','pet':'dog'}\n",
    "#directly modifying a value of a known key\n",
    "fvrt_1['pet']='cat'\n",
    "print(fvrt_1)\n"
   ]
  },
  {
   "cell_type": "markdown",
   "metadata": {},
   "source": [
    "# modifying a value in the original dictionary"
   ]
  },
  {
   "cell_type": "code",
   "execution_count": 9,
   "metadata": {},
   "outputs": [
    {
     "name": "stdout",
     "output_type": "stream",
     "text": [
      "{'color': 'blue', 'fruit': 'mango', 'pet': 'cat'}\n"
     ]
    }
   ],
   "source": [
    "fvrt={'color':'blue','fruit':'mango','pet':'dog'}\n",
    "for k in fvrt.keys():\n",
    "    if k=='pet':\n",
    "        fvrt[k]='cat'\n",
    "print(fvrt)"
   ]
  },
  {
   "cell_type": "markdown",
   "metadata": {},
   "source": [
    "# Deleting a key in the dictionary"
   ]
  },
  {
   "cell_type": "code",
   "execution_count": 17,
   "metadata": {},
   "outputs": [
    {
     "name": "stdout",
     "output_type": "stream",
     "text": [
      "{'color': 'blue', 'fruit': 'mango', 'pet': 'cat'}\n",
      "cat\n",
      "{'color': 'blue', 'fruit': 'mango'}\n"
     ]
    }
   ],
   "source": [
    "print(fvrt_1)\n",
    "for k in list(fvrt_1.keys()):\n",
    "    if k=='pet':\n",
    "        print(fvrt_1[k])\n",
    "        del fvrt_1[k]\n",
    "        \n",
    "print(fvrt_1)\n"
   ]
  },
  {
   "cell_type": "code",
   "execution_count": 1,
   "metadata": {},
   "outputs": [
    {
     "name": "stdout",
     "output_type": "stream",
     "text": [
      "[10, 20, 30]\n",
      "<class 'list'>\n"
     ]
    }
   ],
   "source": [
    "var=([10,20,30])\n",
    "print(var)\n",
    "print(type(var))"
   ]
  },
  {
   "cell_type": "markdown",
   "metadata": {},
   "source": [
    "   # Doing some calculation with the values of dictionary"
   ]
  },
  {
   "cell_type": "code",
   "execution_count": 10,
   "metadata": {},
   "outputs": [
    {
     "name": "stdout",
     "output_type": "stream",
     "text": [
      "14100.0\n",
      "396\n",
      "14100.0\n"
     ]
    }
   ],
   "source": [
    "incomes = {'apple': 5600.00, 'orange': 3500.00, 'banana': 5000.00}\n",
    "# we want the total of all the values in the dictionary\n",
    "total_inc=0\n",
    "for val in incomes.values():\n",
    "    total_inc += val\n",
    "print(total_inc)\n",
    "\n",
    "#---------------Pythonic way----------------------------------------\n",
    "list=[10,20,30,5,45,87,24,6,5,45,98,21]\n",
    "#sum method can be used take out sum of the list\n",
    "print(sum(list))\n",
    "\n",
    "# we know income.values() will return list type with all the values ,So\n",
    "# also using List comprehenssion.\n",
    "\n",
    "total=sum([val for val in incomes.values()])\n",
    "print(total)\n",
    "\n"
   ]
  },
  {
   "cell_type": "markdown",
   "metadata": {},
   "source": [
    "## Basic Dictionary Methods "
   ]
  },
  {
   "cell_type": "code",
   "execution_count": 32,
   "metadata": {},
   "outputs": [
    {
     "name": "stdout",
     "output_type": "stream",
     "text": [
      "{'I': 1, 'V': 5, 'X': 10, 'L': 50, 'C': 100, 'D': 500, 'M': 1000, 'G': 5000, 'H': 10000, 'J': 50000}\n",
      "{'I': 1, 'V': 5, 'X': 10, 'L': 50, 'C': 100, 'D': 500, 'M': 1000, 'G': 5000, 'H': 10000}\n"
     ]
    }
   ],
   "source": [
    "romansDict =  { \n",
    "            \"I\": 1, \n",
    "            \"V\": 5, \n",
    "            \"X\": 10, \n",
    "            \"L\": 50, \n",
    "            \"C\": 100, \n",
    "            \"D\": 500, \n",
    "            \"M\": 1000, \n",
    "            \"G\": 5000, \n",
    "            \"H\": 10000} \n",
    "romansCopy=romansDict.copy()\n",
    "#str(romansDict)\n",
    "#len(romansDict)\n",
    "#empty={}\n",
    "#empty=romansDict.copy()\n",
    "#print(empty)\n",
    "#romansDict.clear()\n",
    "#del empty['G']\n",
    "#del romansDict['H']\n",
    "#print(romansDict)\n",
    "#print(empty)\n",
    "#sequ=('name','age','id')\n",
    "#dict = dict.fromkeys(sequ,10)\n",
    "#print(dict)\n",
    "#romansCopy.get('J','not found')\n",
    "romansCopy.setdefault('J',50000)\n",
    "print(romansCopy)"
   ]
  },
  {
   "cell_type": "markdown",
   "metadata": {},
   "source": [
    "# Removing specific elements from Dictionaries"
   ]
  },
  {
   "cell_type": "code",
   "execution_count": 2,
   "metadata": {},
   "outputs": [
    {
     "name": "stdout",
     "output_type": "stream",
     "text": [
      "{'M': 1000, 'D': 500, 'I': 1, 'C': 100, 'V': 5, 'X': 10, 'L': 50}\n"
     ]
    }
   ],
   "source": [
    "romansDict =  { \n",
    "            \"I\": 1, \n",
    "            \"V\": 5, \n",
    "            \"X\": 10, \n",
    "            \"L\": 50, \n",
    "            \"C\": 100, \n",
    "            \"D\": 500, \n",
    "            \"M\": 1000, \n",
    "            \"G\": 5000, \n",
    "            \"H\": 10000} \n",
    "# Generating a dictionary which is not having 'G' and 'H'\n",
    "# romans.keys() will return object similar to as Sets object type.\n",
    "# Hence we can apply set operations on two.\n",
    "# romansDict.keys()-{'G','H'}} is the set.\n",
    "\n",
    "new_dict={key:romansDict[key] for key in romansDict.keys()-{'G','H'}}\n",
    "print(new_dict)\n"
   ]
  },
  {
   "cell_type": "markdown",
   "metadata": {},
   "source": [
    "# Sort a dictionary using sorted() method"
   ]
  },
  {
   "cell_type": "code",
   "execution_count": 6,
   "metadata": {},
   "outputs": [
    {
     "name": "stdout",
     "output_type": "stream",
     "text": [
      "['C', 'D', 'G', 'H', 'I', 'L', 'M', 'V', 'X']\n",
      "{'C': 100, 'D': 500, 'G': 5000, 'H': 10000, 'I': 1, 'L': 50, 'M': 1000, 'V': 5, 'X': 10}\n"
     ]
    }
   ],
   "source": [
    "# as dictionary is an orderd datastructure we can use sorted() method on it.\n",
    "# This method will give a  Sorted List of keys as an output.\n",
    "# which can be iterated upon in for loop.\n",
    "romansDict =  { \n",
    "            \"I\": 1, \n",
    "            \"V\": 5, \n",
    "            \"X\": 10, \n",
    "            \"L\": 50, \n",
    "            \"C\": 100, \n",
    "            \"D\": 500, \n",
    "            \"M\": 1000, \n",
    "            \"G\": 5000, \n",
    "            \"H\": 10000}\n",
    "print(sorted(romansDict))\n",
    "sorted_dict={k:romansDict[k] for k in sorted(romansDict)}\n",
    "print(sorted_dict)\n",
    "\n"
   ]
  },
  {
   "cell_type": "markdown",
   "metadata": {},
   "source": [
    "# Destructrive Iteration with .popitem() method"
   ]
  },
  {
   "cell_type": "code",
   "execution_count": 10,
   "metadata": {},
   "outputs": [
    {
     "name": "stdout",
     "output_type": "stream",
     "text": [
      "('H', 10000)\n"
     ]
    },
    {
     "ename": "RuntimeError",
     "evalue": "dictionary changed size during iteration",
     "output_type": "error",
     "traceback": [
      "\u001b[1;31m---------------------------------------------------------------------------\u001b[0m",
      "\u001b[1;31mRuntimeError\u001b[0m                              Traceback (most recent call last)",
      "\u001b[1;32m<ipython-input-10-c9aa5b75e4af>\u001b[0m in \u001b[0;36m<module>\u001b[1;34m\u001b[0m\n\u001b[0;32m      9\u001b[0m             \u001b[1;34m\"G\"\u001b[0m\u001b[1;33m:\u001b[0m \u001b[1;36m5000\u001b[0m\u001b[1;33m,\u001b[0m\u001b[1;33m\u001b[0m\u001b[1;33m\u001b[0m\u001b[0m\n\u001b[0;32m     10\u001b[0m             \"H\": 10000}\n\u001b[1;32m---> 11\u001b[1;33m \u001b[1;32mfor\u001b[0m \u001b[0mi\u001b[0m \u001b[1;32min\u001b[0m \u001b[0mromansDict\u001b[0m\u001b[1;33m:\u001b[0m\u001b[1;33m\u001b[0m\u001b[1;33m\u001b[0m\u001b[0m\n\u001b[0m\u001b[0;32m     12\u001b[0m     \u001b[0mitem\u001b[0m\u001b[1;33m=\u001b[0m\u001b[0mromansDict\u001b[0m\u001b[1;33m.\u001b[0m\u001b[0mpopitem\u001b[0m\u001b[1;33m(\u001b[0m\u001b[1;33m)\u001b[0m\u001b[1;33m\u001b[0m\u001b[1;33m\u001b[0m\u001b[0m\n\u001b[0;32m     13\u001b[0m     \u001b[0mprint\u001b[0m\u001b[1;33m(\u001b[0m\u001b[0mitem\u001b[0m\u001b[1;33m)\u001b[0m\u001b[1;33m\u001b[0m\u001b[1;33m\u001b[0m\u001b[0m\n",
      "\u001b[1;31mRuntimeError\u001b[0m: dictionary changed size during iteration"
     ]
    }
   ],
   "source": [
    "romansDict =  { \n",
    "            \"I\": 1, \n",
    "            \"V\": 5, \n",
    "            \"X\": 10, \n",
    "            \"L\": 50, \n",
    "            \"C\": 100, \n",
    "            \"D\": 500, \n",
    "            \"M\": 1000, \n",
    "            \"G\": 5000, \n",
    "            \"H\": 10000}\n",
    "for i in romansDict:\n",
    "    item=romansDict.popitem()\n",
    "    print(item)"
   ]
  },
  {
   "cell_type": "code",
   "execution_count": 2,
   "metadata": {},
   "outputs": [
    {
     "name": "stdout",
     "output_type": "stream",
     "text": [
      "I\n"
     ]
    },
    {
     "ename": "RuntimeError",
     "evalue": "dictionary changed size during iteration",
     "output_type": "error",
     "traceback": [
      "\u001b[1;31m---------------------------------------------------------------------------\u001b[0m",
      "\u001b[1;31mRuntimeError\u001b[0m                              Traceback (most recent call last)",
      "\u001b[1;32m<ipython-input-2-4b87bb5083bb>\u001b[0m in \u001b[0;36m<module>\u001b[1;34m\u001b[0m\n\u001b[0;32m      9\u001b[0m             \u001b[1;34m\"G\"\u001b[0m\u001b[1;33m:\u001b[0m \u001b[1;36m5000\u001b[0m\u001b[1;33m,\u001b[0m\u001b[1;33m\u001b[0m\u001b[1;33m\u001b[0m\u001b[0m\n\u001b[0;32m     10\u001b[0m             \"H\": 10000}\n\u001b[1;32m---> 11\u001b[1;33m \u001b[1;32mfor\u001b[0m \u001b[0mi\u001b[0m \u001b[1;32min\u001b[0m \u001b[0mromansDict\u001b[0m\u001b[1;33m:\u001b[0m\u001b[1;33m\u001b[0m\u001b[1;33m\u001b[0m\u001b[0m\n\u001b[0m\u001b[0;32m     12\u001b[0m     \u001b[0mprint\u001b[0m\u001b[1;33m(\u001b[0m\u001b[0mi\u001b[0m\u001b[1;33m)\u001b[0m\u001b[1;33m\u001b[0m\u001b[1;33m\u001b[0m\u001b[0m\n\u001b[0;32m     13\u001b[0m     \u001b[1;32mdel\u001b[0m \u001b[0mromansDict\u001b[0m\u001b[1;33m[\u001b[0m\u001b[0mi\u001b[0m\u001b[1;33m]\u001b[0m\u001b[1;33m\u001b[0m\u001b[1;33m\u001b[0m\u001b[0m\n",
      "\u001b[1;31mRuntimeError\u001b[0m: dictionary changed size during iteration"
     ]
    }
   ],
   "source": [
    "romansDict =  { \n",
    "            \"I\": 1, \n",
    "            \"V\": 5, \n",
    "            \"X\": 10, \n",
    "            \"L\": 50, \n",
    "            \"C\": 100, \n",
    "            \"D\": 500, \n",
    "            \"M\": 1000, \n",
    "            \"G\": 5000, \n",
    "            \"H\": 10000}\n",
    "for i in romansDict:\n",
    "    print(i)\n",
    "    del romansDict[i]\n",
    "print(romanDict)\n"
   ]
  },
  {
   "cell_type": "markdown",
   "metadata": {},
   "source": [
    "## Hence we should't use for loop to iterate the dictionary\n",
    "## If we tend to add or delete elemants along also.\n",
    "## It raises error \"dictionary changed size during iteration\""
   ]
  },
  {
   "cell_type": "markdown",
   "metadata": {},
   "source": [
    "## Using While loop Instead"
   ]
  },
  {
   "cell_type": "code",
   "execution_count": 16,
   "metadata": {},
   "outputs": [
    {
     "name": "stdout",
     "output_type": "stream",
     "text": [
      "{}\n",
      "dictionary length =  0\n",
      "the dictionary has no item left\n"
     ]
    }
   ],
   "source": [
    "print(romansDict)\n",
    "romans2=romansDict\n",
    "while True:\n",
    "    try:\n",
    "        print('dictionary length = ',len(romansDict))\n",
    "        item=romansDict.popitem()\n",
    "        print('item just poped = ',item)\n",
    "    except KeyError:\n",
    "        print('the dictionary has no item left')\n",
    "        break\n",
    "        "
   ]
  },
  {
   "cell_type": "markdown",
   "metadata": {},
   "source": [
    "# Geeks for geeks practice questions:\n",
    "\n",
    "###  Sort Python Dictionaries by Key or Value"
   ]
  },
  {
   "cell_type": "code",
   "execution_count": 30,
   "metadata": {},
   "outputs": [
    {
     "name": "stdout",
     "output_type": "stream",
     "text": [
      "{'C': 100, 'D': 500, 'G': 5000, 'H': 10000, 'I': 1, 'L': 50, 'M': 1000, 'V': 5, 'X': 10} \n",
      " sorted by key\n",
      "{'I': 1, 'V': 5, 'X': 10, 'L': 50, 'C': 100, 'D': 500, 'M': 1000, 'G': 5000, 'H': 10000} \n",
      " sorted by value\n"
     ]
    }
   ],
   "source": [
    "romansDict =  { \n",
    "            \"I\": 1, \n",
    "            \"V\": 5, \n",
    "            \"X\": 10, \n",
    "            \"L\": 50, \n",
    "            \"C\": 100, \n",
    "            \"D\": 500, \n",
    "            \"M\": 1000, \n",
    "            \"G\": 5000, \n",
    "            \"H\": 10000}\n",
    "#using dictionary comprehenssion\n",
    "#Here the sorted() method will return a list of sorted keys of the dictionary.\n",
    "srtbyky={k:romansDict[k] for k in sorted(romansDict)}\n",
    "#The User defined function func:\n",
    "def func(item):\n",
    "    return romansDict[item]\n",
    "#Here Sorted() will sort the Iterable, on the basis of value returned by the\n",
    "#User defined fuction Func:\n",
    "#In this case it is value of the key\n",
    "srtbyvl={k:romansDict[k] for k in sorted(romansDict.keys(),key=func,reverse=False)}\n",
    "print(srtbyky,\"\\n\",'sorted by key')\n",
    "print(srtbyvl,\"\\n\",'sorted by value')\n"
   ]
  },
  {
   "cell_type": "markdown",
   "metadata": {},
   "source": [
    "## Handling missing keys in Python dictionaries "
   ]
  },
  {
   "cell_type": "markdown",
   "metadata": {},
   "source": [
    "### Using get() method"
   ]
  },
  {
   "cell_type": "code",
   "execution_count": 44,
   "metadata": {},
   "outputs": [
    {
     "name": "stdout",
     "output_type": "stream",
     "text": [
      "get age for: didi\n",
      "didi age is not known\n"
     ]
    }
   ],
   "source": [
    "ages={'papa':52,'mom':51,'me':24}\n",
    "person=input('get age for: ')\n",
    "age=ages.get(person)\n",
    "\n",
    "if age:\n",
    "    print(person ,'is',age,'years old')\n",
    "else:\n",
    "    print(person,'age is not known')\n",
    "# get() method can give either the--ages--value found in the dictionary\n",
    "# or a default value\n",
    "# or also None, if default value not provided, as seen in the upper case."
   ]
  },
  {
   "cell_type": "code",
   "execution_count": 49,
   "metadata": {},
   "outputs": [
    {
     "name": "stdout",
     "output_type": "stream",
     "text": [
      "no\n"
     ]
    }
   ],
   "source": [
    "a=\n",
    "if a:\n",
    "    print('yes')\n",
    "else:\n",
    "    print('no')"
   ]
  },
  {
   "cell_type": "markdown",
   "metadata": {},
   "source": [
    "### Using try except block:"
   ]
  },
  {
   "cell_type": "code",
   "execution_count": 10,
   "metadata": {},
   "outputs": [
    {
     "name": "stdout",
     "output_type": "stream",
     "text": [
      "enter persondidi\n",
      "didi not found in the list\n"
     ]
    }
   ],
   "source": [
    "ages={'papa':52,'mom':51,'me':24}\n",
    "person=input('enter person')\n",
    "try:\n",
    "    print(person,'is',ages[person],'years old')\n",
    "except KeyError:\n",
    "    print(person,'not found in the list')\n"
   ]
  },
  {
   "cell_type": "markdown",
   "metadata": {},
   "source": [
    "### Sum of all the items in the dictionary"
   ]
  },
  {
   "cell_type": "code",
   "execution_count": 13,
   "metadata": {},
   "outputs": [
    {
     "name": "stdout",
     "output_type": "stream",
     "text": [
      "600\n"
     ]
    }
   ],
   "source": [
    "Dict = {'a': 100, 'b':200, 'c':300}\n",
    "total=sum(Dict.values())\n",
    "print(total)"
   ]
  },
  {
   "cell_type": "markdown",
   "metadata": {},
   "source": [
    "### Deleting an item from the dictionary"
   ]
  },
  {
   "cell_type": "markdown",
   "metadata": {},
   "source": [
    "#### Using del"
   ]
  },
  {
   "cell_type": "code",
   "execution_count": 19,
   "metadata": {},
   "outputs": [
    {
     "name": "stdout",
     "output_type": "stream",
     "text": [
      "who must be removeddidi\n",
      "{'papa': 52, 'mom': 51, 'me': 24}\n"
     ]
    }
   ],
   "source": [
    "ages1={'papa':52,'mom':51,'me':24,'didi':26}\n",
    "person=input('who must be removed')\n",
    "try:\n",
    "    del ages1[person]\n",
    "    print(ages1)\n",
    "except KeyError:\n",
    "    print(person ,'does not exsits on the database')\n"
   ]
  },
  {
   "cell_type": "markdown",
   "metadata": {},
   "source": [
    "#### using pop(), it has a upper hand over del"
   ]
  },
  {
   "cell_type": "code",
   "execution_count": 27,
   "metadata": {},
   "outputs": [
    {
     "name": "stdout",
     "output_type": "stream",
     "text": [
      "who must be removedme\n",
      "item removed is 24 \n",
      " updated dictionary is {'papa': 52, 'mom': 51, 'didi': 26}\n"
     ]
    }
   ],
   "source": [
    "ages1={'papa':52,'mom':51,'me':24,'didi':26}\n",
    "person=input('who must be removed')\n",
    "#.pop() returns the deleted value\n",
    "#.pop() method can print desired value if a non existing key is demanded\n",
    "#example is \n",
    "item_rem=ages1.pop(person,None)\n",
    "if item_rem:\n",
    "    print('item removed is',item_rem,'\\n','updated dictionary is',ages1)\n",
    "else:\n",
    "    print('no key found')\n"
   ]
  },
  {
   "cell_type": "markdown",
   "metadata": {},
   "source": [
    "## Merging two dictionaries"
   ]
  },
  {
   "cell_type": "markdown",
   "metadata": {},
   "source": [
    "### Using update() method"
   ]
  },
  {
   "cell_type": "code",
   "execution_count": 3,
   "metadata": {},
   "outputs": [
    {
     "name": "stdout",
     "output_type": "stream",
     "text": [
      "{'a': 10, 'b': 8, 'd': 6, 'c': 4}\n",
      "{'d': 6, 'c': 4}\n"
     ]
    }
   ],
   "source": [
    "#Here second dictionary is added to the first\n",
    "#nothing is returned.\n",
    "dict1 = {'a': 10, 'b': 8} \n",
    "dict2 = {'d': 6, 'c': 4} \n",
    "dict1.update(dict2)\n",
    "print(dict1)\n",
    "print(dict2)"
   ]
  },
  {
   "cell_type": "markdown",
   "metadata": {},
   "source": [
    "### using ** expression"
   ]
  },
  {
   "cell_type": "code",
   "execution_count": 5,
   "metadata": {},
   "outputs": [
    {
     "name": "stdout",
     "output_type": "stream",
     "text": [
      "{'a': 10, 'b': 12, 'd': 6, 'c': 4}\n"
     ]
    }
   ],
   "source": [
    "#single expression is used to merge two dictionaries and stored in a third dictionary.\n",
    "# ** implies that the argument is a dictionary.\n",
    "#This will replace the duplicate keys of the first dictionary.(b=12 not )\n",
    "def Merge(dict1, dict2): \n",
    "    res = {**dict1, **dict2} \n",
    "    return res \n",
    "dict1 = {'a': 10, 'b': 8} \n",
    "dict2 = {'d': 6, 'c': 4,'b': 12} \n",
    "dict3 = Merge(dict1, dict2)\n",
    "print(dict3)"
   ]
  },
  {
   "cell_type": "markdown",
   "metadata": {},
   "source": [
    "### Dictionary intersection using & operator"
   ]
  },
  {
   "cell_type": "code",
   "execution_count": 9,
   "metadata": {},
   "outputs": [
    {
     "name": "stdout",
     "output_type": "stream",
     "text": [
      "intersection of dictionary keys\n",
      "{'y', 'x'}\n",
      "\n",
      "intersection of dictinary items\n",
      "{('x', 1), ('y', 2)}\n",
      "<class 'set'>\n"
     ]
    }
   ],
   "source": [
    "# & operator does not supports 'dict_values' type\n",
    "# and the output genrated by & operator will be of type set{}.\n",
    "a = { 'x' : 1, 'y' : 2, 'z' : 3 }\n",
    "b = { 'u' : 1, 'v' : 2, 'w' : 3, 'x'  : 1, 'y': 2 }\n",
    "print('intersection of dictionary keys')\n",
    "inter=a.keys() & b.keys()\n",
    "print(a.keys() & b.keys())\n",
    "print()\n",
    "print('intersection of dictinary items')\n",
    "print(a.items() & b.items())\n",
    "print(type(inter))\n"
   ]
  },
  {
   "cell_type": "markdown",
   "metadata": {},
   "source": [
    "### Find common elements in three sorted arrays by dictionary intersection "
   ]
  },
  {
   "cell_type": "code",
   "execution_count": 34,
   "metadata": {},
   "outputs": [
    {
     "name": "stdout",
     "output_type": "stream",
     "text": [
      "{(20, 1), (80, 1)}\n"
     ]
    }
   ],
   "source": [
    "# dict() method not working.. TypeError\n",
    "\n",
    "from collections import Counter\n",
    "def commonElement(ar1,ar2,ar3):\n",
    "    ar1=Counter(ar1)\n",
    "    ar2=Counter(ar2)\n",
    "    ar3=Counter(ar3)\n",
    "    result= (ar1.items() & ar2.items() & ar3.items())\n",
    "    print(result)\n",
    "ar1 = [1, 5, 10, 20, 40, 80] \n",
    "ar2 = [6, 7, 20, 80, 100] \n",
    "ar3 = [3, 4, 15, 20, 30, 70, 80, 120] \n",
    "commonElement(ar1,ar2,ar3) "
   ]
  },
  {
   "cell_type": "code",
   "execution_count": 13,
   "metadata": {},
   "outputs": [
    {
     "name": "stdout",
     "output_type": "stream",
     "text": [
      "Counter({'x': 4, 'y': 2, 'z': 2})\n",
      "<class 'collections.Counter'>\n"
     ]
    }
   ],
   "source": [
    "from collections import Counter \n",
    "list1 = ['x','y','z','x','x','x','y', 'z']\n",
    "print(Counter(list1))\n",
    "print(type(Counter(list1)))\n"
   ]
  },
  {
   "cell_type": "markdown",
   "metadata": {},
   "source": [
    "#### Find winner of an election where votes are represented as candidate names."
   ]
  },
  {
   "cell_type": "code",
   "execution_count": 48,
   "metadata": {},
   "outputs": [
    {
     "name": "stdout",
     "output_type": "stream",
     "text": [
      "Counter({'john': 6, 'jackie': 6, 'jamie': 5, 'johnny': 4})\n",
      "jackie is the winner\n"
     ]
    }
   ],
   "source": [
    "from collections import Counter \n",
    "def winner(votes_2):\n",
    "    # preparing an empty list for possible winners.\n",
    "    p_winr=[]\n",
    "    # Storing the highest vote count.\n",
    "    hghst = max(votes_2.values())\n",
    "    #comparing the maxVoteCount with evry key in the dictionary.\n",
    "    for item in votes_2.keys():\n",
    "        if votes_2[item]==hghst:\n",
    "            # appending item\n",
    "            p_winr.append(item)\n",
    "    # declayring the winner, with smallest lexicographical name.\n",
    "    print(min(p_winr),'is the winner')\n",
    "    \n",
    "votes=[\"john\", \"johnny\", \"jackie\", \"johnny\", \"john\", \"jackie\", \"jamie\", \"jamie\",\n",
    "       \"john\",\"johnny\", \"jamie\", \"johnny\",\"john\",\"jackie\",\"john\",\"john\",\"jackie\",\"jamie\",\n",
    "       \"jamie\",\"jackie\",\"jackie\"]\n",
    "# Creating a list, after calculating the votes.\n",
    "votes_2=Counter(votes)\n",
    "print(votes_2)\n",
    "winner(votes_2)\n"
   ]
  },
  {
   "cell_type": "code",
   "execution_count": 47,
   "metadata": {},
   "outputs": [
    {
     "data": {
      "text/plain": [
       "'sachin'"
      ]
     },
     "execution_count": 47,
     "metadata": {},
     "output_type": "execute_result"
    }
   ],
   "source": [
    "max([6,6,5,4,3,2])\n",
    "# min() method on a list of strings, would give a lexicographically smallest.\n",
    "min('sachin','shah')"
   ]
  },
  {
   "cell_type": "markdown",
   "metadata": {},
   "source": [
    "### Checking for anagram through Counter from collections module"
   ]
  },
  {
   "cell_type": "code",
   "execution_count": 8,
   "metadata": {},
   "outputs": [
    {
     "name": "stdout",
     "output_type": "stream",
     "text": [
      "Counter({'a': 1, 'b': 1, 'c': 1, 'd': 1})\n",
      "The output of counter is a dictionary with values as freequency\n",
      "Counter({'d': 1, 'c': 1, 'b': 1, 'a': 1})\n",
      "Counter({'a': 2, 'd': 1, 'c': 1, 'b': 1})\n",
      "True\n",
      "False\n"
     ]
    }
   ],
   "source": [
    "from collections import Counter\n",
    "st1='abcd'\n",
    "st2='dcba'\n",
    "st3='dcbaa'\n",
    "print(Counter(st1))\n",
    "print('The output of counter is a dictionary with values as freequency')\n",
    "print(Counter(st2))\n",
    "print(Counter(st3))\n",
    "#comparing two dictionaries with equalTo operator.\n",
    "print(Counter(st1)==Counter(st2))\n",
    "print(Counter(st3)==Counter(st2))\n"
   ]
  },
  {
   "cell_type": "code",
   "execution_count": null,
   "metadata": {},
   "outputs": [],
   "source": [
    "from collections import counter\n",
    "def anagram(arr,L):\n",
    "    for i in range(0,L):\n",
    "        for j in range()\n",
    "arr = ['cat', 'dog', 'tac', 'god', 'act','odg','ogd']\n",
    "L=len(arr)\n",
    "anagram(arr,L)\n",
    "\n"
   ]
  },
  {
   "cell_type": "code",
   "execution_count": 9,
   "metadata": {},
   "outputs": [
    {
     "name": "stdout",
     "output_type": "stream",
     "text": [
      "['a', 'c', 'h', 'i', 'n', 's']\n"
     ]
    }
   ],
   "source": [
    "st1='sachin'\n",
    "print(sorted(st1))"
   ]
  },
  {
   "cell_type": "code",
   "execution_count": null,
   "metadata": {},
   "outputs": [],
   "source": []
  }
 ],
 "metadata": {
  "kernelspec": {
   "display_name": "Python 3",
   "language": "python",
   "name": "python3"
  },
  "language_info": {
   "codemirror_mode": {
    "name": "ipython",
    "version": 3
   },
   "file_extension": ".py",
   "mimetype": "text/x-python",
   "name": "python",
   "nbconvert_exporter": "python",
   "pygments_lexer": "ipython3",
   "version": "3.8.1"
  }
 },
 "nbformat": 4,
 "nbformat_minor": 4
}
